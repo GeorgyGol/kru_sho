{
 "cells": [
  {
   "cell_type": "markdown",
   "metadata": {},
   "source": [
    "# Анализ множественных прогонов нейросети для модели Крюков-Шолохов"
   ]
  },
  {
   "cell_type": "code",
   "execution_count": 106,
   "metadata": {},
   "outputs": [
    {
     "name": "stdout",
     "output_type": "stream",
     "text": [
      "      file_mask  fire  in_use    strFileDir       strRuName  \\\n",
      "index                                                         \n",
      "kru           *     0    True        Krukov       Ф. Крюков   \n",
      "sho       *.txt     0    True     Sholokhov      М. Шолохов   \n",
      "ltol          *     0    True       Tolstoy      Л. Толстой   \n",
      "atol      *.txt     0    True      ATolstoy      A. Толстой   \n",
      "sera      *.txt     0    True  Serafimovich  А. Серафимович   \n",
      "fad       *.txt     0    True       Fadeyev       А. Фадеев   \n",
      "bab       *.txt     0    True         Babel       И. Бабель   \n",
      "kat       *.txt     0    True        Kataev       В. Катаев   \n",
      "pla       *.txt     0    True      Platonov     А. Платонов   \n",
      "blg       *.txt     0    True      Bulgakov     М. Булгаков   \n",
      "\n",
      "                                    strUrl  \n",
      "index                                       \n",
      "kru        http://az.lib.ru/k/krjukow_f_d/  \n",
      "sho      http://www.lib.ru/PROZA/SHOLOHOW/  \n",
      "ltol                                        \n",
      "atol                                        \n",
      "sera   http://lib.ru/RUSSLIT/SERAFIMOWICH/  \n",
      "fad      http://www.lib.ru/RUSSLIT/FADEEW/  \n",
      "bab         http://www.lib.ru/PROZA/BABEL/  \n",
      "kat        http://www.lib.ru/PROZA/KATAEW/  \n",
      "pla          http://platonov-ap.ru/novels/  \n",
      "blg            http://www.lib.ru/BULGAKOW/  \n"
     ]
    }
   ],
   "source": [
    "import pandas as pd\n",
    "import re\n",
    "import matplotlib.pyplot as plt\n",
    "import glob\n",
    "import os\n",
    "\n",
    "%matplotlib inline\n",
    "\n",
    "%run main_serv.py\n",
    "auth_load=authors.copy()\n",
    "\n",
    "curIndex=-1"
   ]
  },
  {
   "cell_type": "markdown",
   "metadata": {},
   "source": [
    "## Filter result files (jnly selected authors)"
   ]
  },
  {
   "cell_type": "code",
   "execution_count": 107,
   "metadata": {},
   "outputs": [
    {
     "name": "stdout",
     "output_type": "stream",
     "text": [
      "{'Babel': 'result/sh/result_prob_Babel.csv', 'Serafimovich': 'result/sh/result_prob_Serafimovich.csv', 'ATolstoy': 'result/sh/result_prob_ATolstoy.csv', 'Tolstoy': 'result/sh/result_prob_Tolstoy.csv', 'Platonov': 'result/sh/result_prob_Platonov.csv', 'Sholokhov': 'result/sh/result_prob_Sholokhov.csv', 'Fadeyev': 'result/sh/result_prob_Fadeyev.csv', 'Bulgakov': 'result/sh/result_prob_Bulgakov.csv', 'Kataev': 'result/sh/result_prob_Kataev.csv', 'Krukov': 'result/sh/result_prob_Krukov.csv'}\n"
     ]
    }
   ],
   "source": [
    "res_list=['result/lt1', \n",
    "          'result/at1',\n",
    "          'result/f1', \n",
    "          'result/ga1', \n",
    "          'result/ilf1', \n",
    "          'result/ka1', \n",
    "          'result/mm', \n",
    "          'result/o1',\n",
    "          'result/pa1', \n",
    "          'result/pl1', \n",
    "          'result/TD',\n",
    "          'result/sh']\n",
    "strResultDir=res_list[curIndex]\n",
    "\n",
    "#auth_load.use(val=False)\n",
    "#auth_load.use(index=['sera', 'fad', 'kru', 'sho', 'ltol', 'kat', 'pla']) # load these authors\n",
    "\n",
    "work_list=auth_load.loc[auth_load['in_use'], 'strFileDir'].tolist()\n",
    "\n",
    "csvs=[fl for fl in glob.glob(os.path.join(strResultDir,'*.csv')) if re.search('result_prob_', fl)]\n",
    "work_au=[re.search('result_prob_(\\w+).csv', auth).group(1) for auth in csvs]\n",
    "work_dict=dict(zip(work_au, csvs))\n",
    "work_dict=dict(filter(lambda x: x[0] in work_list, work_dict.items()))\n",
    "print(work_dict)"
   ]
  },
  {
   "cell_type": "markdown",
   "metadata": {},
   "source": [
    "## Load and prepare data\n",
    "\n",
    "\"Среднее выборок приблизительно равно среднему популяции\" - в каждом результирующем файле по каждомуавторурезультат 13-циклов обучение-классификация нейросети, считаем среднее по главам, смотрим всякую статистику"
   ]
  },
  {
   "cell_type": "code",
   "execution_count": 108,
   "metadata": {},
   "outputs": [
    {
     "name": "stdout",
     "output_type": "stream",
     "text": [
      "Babel (232, 3)\n",
      "Serafimovich (232, 3)\n",
      "ATolstoy (232, 3)\n",
      "Tolstoy (232, 3)\n",
      "Platonov (232, 3)\n",
      "Sholokhov (232, 3)\n",
      "Fadeyev (232, 3)\n",
      "Bulgakov (232, 3)\n",
      "Kataev (232, 3)\n",
      "Krukov (232, 3)\n"
     ]
    }
   ],
   "source": [
    "dict_pdf={k:pd.read_csv(v, sep=';') for k, v in work_dict.items()}\n",
    "\n",
    "prob_cols=[c for c in dict_pdf[work_au[0]].columns.tolist() if re.search('(?i)prob', c)]\n",
    "plot_list=[]\n",
    "for k, v in dict_pdf.items():\n",
    "    print(k, v.shape)\n",
    "    v[k]=v.mean(axis=1)\n",
    "    draw_cols=[c for c in v.columns.tolist() if not re.search('(?i)prob', c)]\n",
    "    plot_list.append(v[draw_cols].set_index(['name', 'short_text']))"
   ]
  },
  {
   "cell_type": "code",
   "execution_count": 109,
   "metadata": {},
   "outputs": [
    {
     "data": {
      "image/png": "[encoded data removed]",
      "text/plain": [
       "<Figure size 432x288 with 1 Axes>"
      ]
     },
     "metadata": {
      "needs_background": "light"
     },
     "output_type": "display_data"
    }
   ],
   "source": [
    "fig, ax=plt.subplots()\n",
    "\n",
    "pdf_result=plot_list[0].join(plot_list[1:])\n",
    "\n",
    "box=pdf_result.boxplot(rot=90, ax=ax)\n",
    "plt.title(res_list[curIndex])\n",
    "#ax.margins(y=0.05)\n",
    "ax.set_ylim([0,1.05])\n",
    "plt.show();\n",
    "pdf_result.describe()\n",
    "curIndex+=1"
   ]
  },
  {
   "cell_type": "code",
   "execution_count": 120,
   "metadata": {},
   "outputs": [],
   "source": [
    "#pdf_result.loc[pdf_result.max(axis=1)>0.05, ('ATolstoy', 'Sholokhov', 'Krukov')]\n",
    "pdf_result.loc[:, ('ATolstoy', 'Sholokhov', 'Krukov')].to_csv('TD_result.csv', sep=';')#.sort_values('Krukov', ascending=False)"
   ]
  },
  {
   "cell_type": "code",
   "execution_count": 90,
   "metadata": {},
   "outputs": [
    {
     "data": {
      "text/html": [
       "<div>\n",
       "<style scoped>\n",
       "    .dataframe tbody tr th:only-of-type {\n",
       "        vertical-align: middle;\n",
       "    }\n",
       "\n",
       "    .dataframe tbody tr th {\n",
       "        vertical-align: top;\n",
       "    }\n",
       "\n",
       "    .dataframe thead th {\n",
       "        text-align: right;\n",
       "    }\n",
       "</style>\n",
       "<table border=\"1\" class=\"dataframe\">\n",
       "  <thead>\n",
       "    <tr style=\"text-align: right;\">\n",
       "      <th></th>\n",
       "      <th>ATolstoy</th>\n",
       "      <th>Sholokhov</th>\n",
       "      <th>Krukov</th>\n",
       "    </tr>\n",
       "  </thead>\n",
       "  <tbody>\n",
       "    <tr>\n",
       "      <th>count</th>\n",
       "      <td>232.000000</td>\n",
       "      <td>232.000000</td>\n",
       "      <td>232.000000</td>\n",
       "    </tr>\n",
       "    <tr>\n",
       "      <th>mean</th>\n",
       "      <td>0.025566</td>\n",
       "      <td>0.087780</td>\n",
       "      <td>0.010080</td>\n",
       "    </tr>\n",
       "    <tr>\n",
       "      <th>std</th>\n",
       "      <td>0.097413</td>\n",
       "      <td>0.138462</td>\n",
       "      <td>0.048121</td>\n",
       "    </tr>\n",
       "    <tr>\n",
       "      <th>min</th>\n",
       "      <td>0.000241</td>\n",
       "      <td>0.000264</td>\n",
       "      <td>0.000264</td>\n",
       "    </tr>\n",
       "    <tr>\n",
       "      <th>25%</th>\n",
       "      <td>0.001146</td>\n",
       "      <td>0.008975</td>\n",
       "      <td>0.001501</td>\n",
       "    </tr>\n",
       "    <tr>\n",
       "      <th>50%</th>\n",
       "      <td>0.002528</td>\n",
       "      <td>0.029671</td>\n",
       "      <td>0.002535</td>\n",
       "    </tr>\n",
       "    <tr>\n",
       "      <th>75%</th>\n",
       "      <td>0.007324</td>\n",
       "      <td>0.113176</td>\n",
       "      <td>0.006344</td>\n",
       "    </tr>\n",
       "    <tr>\n",
       "      <th>max</th>\n",
       "      <td>0.942033</td>\n",
       "      <td>0.741744</td>\n",
       "      <td>0.712802</td>\n",
       "    </tr>\n",
       "  </tbody>\n",
       "</table>\n",
       "</div>"
      ],
      "text/plain": [
       "         ATolstoy   Sholokhov      Krukov\n",
       "count  232.000000  232.000000  232.000000\n",
       "mean     0.025566    0.087780    0.010080\n",
       "std      0.097413    0.138462    0.048121\n",
       "min      0.000241    0.000264    0.000264\n",
       "25%      0.001146    0.008975    0.001501\n",
       "50%      0.002528    0.029671    0.002535\n",
       "75%      0.007324    0.113176    0.006344\n",
       "max      0.942033    0.741744    0.712802"
      ]
     },
     "execution_count": 90,
     "metadata": {},
     "output_type": "execute_result"
    }
   ],
   "source": [
    "pdf_result[['ATolstoy', 'Sholokhov', 'Krukov']].describe()"
   ]
  },
  {
   "cell_type": "code",
   "execution_count": 111,
   "metadata": {},
   "outputs": [
    {
     "data": {
      "text/html": [
       "<div>\n",
       "<style scoped>\n",
       "    .dataframe tbody tr th:only-of-type {\n",
       "        vertical-align: middle;\n",
       "    }\n",
       "\n",
       "    .dataframe tbody tr th {\n",
       "        vertical-align: top;\n",
       "    }\n",
       "\n",
       "    .dataframe thead th {\n",
       "        text-align: right;\n",
       "    }\n",
       "</style>\n",
       "<table border=\"1\" class=\"dataframe\">\n",
       "  <thead>\n",
       "    <tr style=\"text-align: right;\">\n",
       "      <th></th>\n",
       "      <th>Babel</th>\n",
       "      <th>Serafimovich</th>\n",
       "      <th>ATolstoy</th>\n",
       "      <th>Tolstoy</th>\n",
       "      <th>Platonov</th>\n",
       "      <th>Sholokhov</th>\n",
       "      <th>Fadeyev</th>\n",
       "      <th>Bulgakov</th>\n",
       "      <th>Kataev</th>\n",
       "      <th>Krukov</th>\n",
       "    </tr>\n",
       "  </thead>\n",
       "  <tbody>\n",
       "    <tr>\n",
       "      <th>count</th>\n",
       "      <td>2.320000e+02</td>\n",
       "      <td>232.000000</td>\n",
       "      <td>232.000000</td>\n",
       "      <td>232.000000</td>\n",
       "      <td>2.320000e+02</td>\n",
       "      <td>232.000000</td>\n",
       "      <td>232.000000</td>\n",
       "      <td>232.000000</td>\n",
       "      <td>2.320000e+02</td>\n",
       "      <td>232.000000</td>\n",
       "    </tr>\n",
       "    <tr>\n",
       "      <th>mean</th>\n",
       "      <td>4.445913e-04</td>\n",
       "      <td>0.000490</td>\n",
       "      <td>0.025566</td>\n",
       "      <td>0.000393</td>\n",
       "      <td>1.441980e-03</td>\n",
       "      <td>0.087780</td>\n",
       "      <td>0.002062</td>\n",
       "      <td>0.001487</td>\n",
       "      <td>4.099101e-04</td>\n",
       "      <td>0.010080</td>\n",
       "    </tr>\n",
       "    <tr>\n",
       "      <th>std</th>\n",
       "      <td>1.320890e-03</td>\n",
       "      <td>0.000786</td>\n",
       "      <td>0.097413</td>\n",
       "      <td>0.000707</td>\n",
       "      <td>8.466150e-03</td>\n",
       "      <td>0.138462</td>\n",
       "      <td>0.004216</td>\n",
       "      <td>0.004467</td>\n",
       "      <td>1.423412e-03</td>\n",
       "      <td>0.048121</td>\n",
       "    </tr>\n",
       "    <tr>\n",
       "      <th>min</th>\n",
       "      <td>2.444439e-07</td>\n",
       "      <td>0.000076</td>\n",
       "      <td>0.000241</td>\n",
       "      <td>0.000062</td>\n",
       "      <td>5.822517e-07</td>\n",
       "      <td>0.000264</td>\n",
       "      <td>0.000079</td>\n",
       "      <td>0.000002</td>\n",
       "      <td>5.886704e-07</td>\n",
       "      <td>0.000264</td>\n",
       "    </tr>\n",
       "    <tr>\n",
       "      <th>25%</th>\n",
       "      <td>8.356321e-06</td>\n",
       "      <td>0.000177</td>\n",
       "      <td>0.001146</td>\n",
       "      <td>0.000112</td>\n",
       "      <td>3.163808e-05</td>\n",
       "      <td>0.008975</td>\n",
       "      <td>0.000391</td>\n",
       "      <td>0.000052</td>\n",
       "      <td>1.591423e-05</td>\n",
       "      <td>0.001501</td>\n",
       "    </tr>\n",
       "    <tr>\n",
       "      <th>50%</th>\n",
       "      <td>4.401787e-05</td>\n",
       "      <td>0.000278</td>\n",
       "      <td>0.002528</td>\n",
       "      <td>0.000177</td>\n",
       "      <td>1.305640e-04</td>\n",
       "      <td>0.029671</td>\n",
       "      <td>0.000689</td>\n",
       "      <td>0.000220</td>\n",
       "      <td>6.181343e-05</td>\n",
       "      <td>0.002535</td>\n",
       "    </tr>\n",
       "    <tr>\n",
       "      <th>75%</th>\n",
       "      <td>2.177897e-04</td>\n",
       "      <td>0.000504</td>\n",
       "      <td>0.007324</td>\n",
       "      <td>0.000355</td>\n",
       "      <td>6.625158e-04</td>\n",
       "      <td>0.113176</td>\n",
       "      <td>0.001877</td>\n",
       "      <td>0.000983</td>\n",
       "      <td>2.068730e-04</td>\n",
       "      <td>0.006344</td>\n",
       "    </tr>\n",
       "    <tr>\n",
       "      <th>max</th>\n",
       "      <td>9.642541e-03</td>\n",
       "      <td>0.009143</td>\n",
       "      <td>0.942033</td>\n",
       "      <td>0.006991</td>\n",
       "      <td>1.230982e-01</td>\n",
       "      <td>0.741744</td>\n",
       "      <td>0.042442</td>\n",
       "      <td>0.040566</td>\n",
       "      <td>1.686340e-02</td>\n",
       "      <td>0.712802</td>\n",
       "    </tr>\n",
       "  </tbody>\n",
       "</table>\n",
       "</div>"
      ],
      "text/plain": [
       "              Babel  Serafimovich    ATolstoy     Tolstoy      Platonov  \\\n",
       "count  2.320000e+02    232.000000  232.000000  232.000000  2.320000e+02   \n",
       "mean   4.445913e-04      0.000490    0.025566    0.000393  1.441980e-03   \n",
       "std    1.320890e-03      0.000786    0.097413    0.000707  8.466150e-03   \n",
       "min    2.444439e-07      0.000076    0.000241    0.000062  5.822517e-07   \n",
       "25%    8.356321e-06      0.000177    0.001146    0.000112  3.163808e-05   \n",
       "50%    4.401787e-05      0.000278    0.002528    0.000177  1.305640e-04   \n",
       "75%    2.177897e-04      0.000504    0.007324    0.000355  6.625158e-04   \n",
       "max    9.642541e-03      0.009143    0.942033    0.006991  1.230982e-01   \n",
       "\n",
       "        Sholokhov     Fadeyev    Bulgakov        Kataev      Krukov  \n",
       "count  232.000000  232.000000  232.000000  2.320000e+02  232.000000  \n",
       "mean     0.087780    0.002062    0.001487  4.099101e-04    0.010080  \n",
       "std      0.138462    0.004216    0.004467  1.423412e-03    0.048121  \n",
       "min      0.000264    0.000079    0.000002  5.886704e-07    0.000264  \n",
       "25%      0.008975    0.000391    0.000052  1.591423e-05    0.001501  \n",
       "50%      0.029671    0.000689    0.000220  6.181343e-05    0.002535  \n",
       "75%      0.113176    0.001877    0.000983  2.068730e-04    0.006344  \n",
       "max      0.741744    0.042442    0.040566  1.686340e-02    0.712802  "
      ]
     },
     "execution_count": 111,
     "metadata": {},
     "output_type": "execute_result"
    }
   ],
   "source": [
    "pdf_result.describe()"
   ]
  },
  {
   "cell_type": "code",
   "execution_count": 114,
   "metadata": {},
   "outputs": [
    {
     "data": {
      "text/plain": [
       "Sholokhov    31\n",
       "dtype: int64"
      ]
     },
     "execution_count": 114,
     "metadata": {},
     "output_type": "execute_result"
    }
   ],
   "source": [
    "pdf_result.loc[pdf_result['Sholokhov']>0.2, ['Sholokhov']].count()"
   ]
  },
  {
   "cell_type": "code",
   "execution_count": null,
   "metadata": {},
   "outputs": [],
   "source": []
  }
 ],
 "metadata": {
  "kernelspec": {
   "display_name": "Python 3",
   "language": "python",
   "name": "python3"
  },
  "language_info": {
   "codemirror_mode": {
    "name": "ipython",
    "version": 3
   },
   "file_extension": ".py",
   "mimetype": "text/x-python",
   "name": "python",
   "nbconvert_exporter": "python",
   "pygments_lexer": "ipython3",
   "version": "3.6.7"
  }
 },
 "nbformat": 4,
 "nbformat_minor": 2
}
