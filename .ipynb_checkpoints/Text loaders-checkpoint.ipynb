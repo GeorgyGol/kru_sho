{
 "cells": [
  {
   "cell_type": "markdown",
   "metadata": {},
   "source": [
    "# Cкачивание текстов для проекта Крюков-Шолохов"
   ]
  },
  {
   "cell_type": "markdown",
   "metadata": {},
   "source": [
    "## Prepare service data"
   ]
  },
  {
   "cell_type": "code",
   "execution_count": 132,
   "metadata": {},
   "outputs": [],
   "source": [
    "import pandas as pd\n",
    "from bs4 import BeautifulSoup\n",
    "import requests\n",
    "import re\n",
    "import os\n",
    "\n",
    "req_headers={'accept': 'text/plain, text/html',\n",
    "'accept-encoding': 'gzip, deflate, br',\n",
    "'accept-language': 'ru-RU,ru;q=0.9,en-US;q=0.8,en;q=0.7',\n",
    "'cache-control': 'max-age=0',\n",
    "'user-agent': 'Mozilla/5.0 (X11; Linux x86_64) AppleWebKit/537.36 (KHTML, like Gecko) Ubuntu Chromium/69.0.3497.81 Chrome/69.0.3497.81 Safari/537.36'}\n",
    "\n",
    "def text_clear(strText):\n",
    "    t=re.sub('\\n+', ' ', strText)\n",
    "    t=re.sub('-{3,}', '', t)\n",
    "    t=re.sub('--', '-', t)\n",
    "    t=re.sub(' +', ' ', t)\n",
    "    t=re.sub('<BR>', '\\n', t)\n",
    "    t=re.sub('\\n +', '\\n', t)\n",
    "    return t.strip()"
   ]
  },
  {
   "cell_type": "code",
   "execution_count": 6,
   "metadata": {},
   "outputs": [],
   "source": [
    "%run main_serv.py\n",
    "auth_load=authors.copy()"
   ]
  },
  {
   "cell_type": "code",
   "execution_count": 8,
   "metadata": {},
   "outputs": [
    {
     "name": "stdout",
     "output_type": "stream",
     "text": [
      "not found param key_word \"index\" so set value to ALL authors\n"
     ]
    }
   ],
   "source": [
    "auth_load.use(val=False)\n",
    "auth_load.use(index=['sera', 'fad', 'bab', 'kat', 'pla']) # load these authors"
   ]
  },
  {
   "cell_type": "code",
   "execution_count": 9,
   "metadata": {},
   "outputs": [
    {
     "data": {
      "text/html": [
       "<div>\n",
       "<style scoped>\n",
       "    .dataframe tbody tr th:only-of-type {\n",
       "        vertical-align: middle;\n",
       "    }\n",
       "\n",
       "    .dataframe tbody tr th {\n",
       "        vertical-align: top;\n",
       "    }\n",
       "\n",
       "    .dataframe thead th {\n",
       "        text-align: right;\n",
       "    }\n",
       "</style>\n",
       "<table border=\"1\" class=\"dataframe\">\n",
       "  <thead>\n",
       "    <tr style=\"text-align: right;\">\n",
       "      <th></th>\n",
       "      <th>file_mask</th>\n",
       "      <th>fire</th>\n",
       "      <th>in_use</th>\n",
       "      <th>strFileDir</th>\n",
       "      <th>strRuName</th>\n",
       "      <th>strUrl</th>\n",
       "    </tr>\n",
       "    <tr>\n",
       "      <th>index</th>\n",
       "      <th></th>\n",
       "      <th></th>\n",
       "      <th></th>\n",
       "      <th></th>\n",
       "      <th></th>\n",
       "      <th></th>\n",
       "    </tr>\n",
       "  </thead>\n",
       "  <tbody>\n",
       "    <tr>\n",
       "      <th>kru</th>\n",
       "      <td>*</td>\n",
       "      <td>0</td>\n",
       "      <td>False</td>\n",
       "      <td>Krukov</td>\n",
       "      <td>Ф. Крюков</td>\n",
       "      <td>http://az.lib.ru/k/krjukow_f_d/</td>\n",
       "    </tr>\n",
       "    <tr>\n",
       "      <th>sho</th>\n",
       "      <td>*.txt</td>\n",
       "      <td>0</td>\n",
       "      <td>False</td>\n",
       "      <td>Sholokhov</td>\n",
       "      <td>М. Шолохов</td>\n",
       "      <td>http://www.lib.ru/PROZA/SHOLOHOW/</td>\n",
       "    </tr>\n",
       "    <tr>\n",
       "      <th>ltol</th>\n",
       "      <td>*</td>\n",
       "      <td>0</td>\n",
       "      <td>False</td>\n",
       "      <td>Tolstoy</td>\n",
       "      <td>Л. Толстой</td>\n",
       "      <td></td>\n",
       "    </tr>\n",
       "    <tr>\n",
       "      <th>sera</th>\n",
       "      <td>*</td>\n",
       "      <td>0</td>\n",
       "      <td>True</td>\n",
       "      <td>Serafimovich</td>\n",
       "      <td>А. Серафимович</td>\n",
       "      <td>http://lib.ru/RUSSLIT/SERAFIMOWICH/</td>\n",
       "    </tr>\n",
       "    <tr>\n",
       "      <th>fad</th>\n",
       "      <td>*</td>\n",
       "      <td>0</td>\n",
       "      <td>True</td>\n",
       "      <td>Fadeyev</td>\n",
       "      <td>А. Фадеев</td>\n",
       "      <td>http://www.lib.ru/RUSSLIT/FADEEW/</td>\n",
       "    </tr>\n",
       "    <tr>\n",
       "      <th>bab</th>\n",
       "      <td>*</td>\n",
       "      <td>0</td>\n",
       "      <td>True</td>\n",
       "      <td>Babel</td>\n",
       "      <td>И. Бабель</td>\n",
       "      <td>http://www.lib.ru/PROZA/BABEL/</td>\n",
       "    </tr>\n",
       "    <tr>\n",
       "      <th>kat</th>\n",
       "      <td>*</td>\n",
       "      <td>0</td>\n",
       "      <td>True</td>\n",
       "      <td>Kataev</td>\n",
       "      <td>В. Катаев</td>\n",
       "      <td>http://www.lib.ru/PROZA/KATAEW/</td>\n",
       "    </tr>\n",
       "    <tr>\n",
       "      <th>pla</th>\n",
       "      <td>*</td>\n",
       "      <td>0</td>\n",
       "      <td>True</td>\n",
       "      <td>Platonov</td>\n",
       "      <td>А. Платонов</td>\n",
       "      <td>http://platonov-ap.ru/novels/</td>\n",
       "    </tr>\n",
       "  </tbody>\n",
       "</table>\n",
       "</div>"
      ],
      "text/plain": [
       "      file_mask  fire  in_use    strFileDir       strRuName  \\\n",
       "index                                                         \n",
       "kru           *     0   False        Krukov       Ф. Крюков   \n",
       "sho       *.txt     0   False     Sholokhov      М. Шолохов   \n",
       "ltol          *     0   False       Tolstoy      Л. Толстой   \n",
       "sera          *     0    True  Serafimovich  А. Серафимович   \n",
       "fad           *     0    True       Fadeyev       А. Фадеев   \n",
       "bab           *     0    True         Babel       И. Бабель   \n",
       "kat           *     0    True        Kataev       В. Катаев   \n",
       "pla           *     0    True      Platonov     А. Платонов   \n",
       "\n",
       "                                    strUrl  \n",
       "index                                       \n",
       "kru        http://az.lib.ru/k/krjukow_f_d/  \n",
       "sho      http://www.lib.ru/PROZA/SHOLOHOW/  \n",
       "ltol                                        \n",
       "sera   http://lib.ru/RUSSLIT/SERAFIMOWICH/  \n",
       "fad      http://www.lib.ru/RUSSLIT/FADEEW/  \n",
       "bab         http://www.lib.ru/PROZA/BABEL/  \n",
       "kat        http://www.lib.ru/PROZA/KATAEW/  \n",
       "pla          http://platonov-ap.ru/novels/  "
      ]
     },
     "execution_count": 9,
     "metadata": {},
     "output_type": "execute_result"
    }
   ],
   "source": [
    "auth_load"
   ]
  },
  {
   "cell_type": "markdown",
   "metadata": {},
   "source": [
    "### Serafimovich"
   ]
  },
  {
   "cell_type": "code",
   "execution_count": 197,
   "metadata": {},
   "outputs": [],
   "source": [
    "strSERABase=auth_load.loc['sera', 'strUrl']\n",
    "\n",
    "def read_sera(strSERAURL=strSERABase):\n",
    "    def work_with_item(strURL, name, sess):\n",
    "        ser_t=sess.get(strSERABase+strURL)\n",
    "        ser_t.encoding=ser_t.apparent_encoding\n",
    "        sp_t=BeautifulSoup(ser_t.text, 'html.parser')\n",
    "    \n",
    "        mo=re.search(r'(\\n?-{4,} ?\\n)', sp_t.text)\n",
    "        text=sp_t.text[mo.start(1)+mo.end(1):]\n",
    "    \n",
    "        text=re.sub('\\n  ', '<BR>', text)\n",
    "        text=re.split('\\n?\\d+\\n', text)\n",
    "    \n",
    "        text=list(map(text_clear, text))\n",
    "    \n",
    "        for n, t in enumerate(text[:-1]):\n",
    "            strFileName=os.path.join(auth_load.loc['sera', 'strFileDir'], '{name}_{num}.txt'.format(name=name, num=n+1))\n",
    "            print('work with ', strFileName, end=' ')\n",
    "        \n",
    "            with open(strFileName, 'w') as flw:\n",
    "                flw.write(t)\n",
    "                print('Done', end='\\n')\n",
    "        return text\n",
    "\n",
    "    with requests.session() as sess:\n",
    "        sess.headers.update(req_headers)\n",
    "        ser_m=sess.get(strSERAURL)\n",
    "        ser_m.encoding=ser_m.apparent_encoding\n",
    "        sp_ser=BeautifulSoup(ser_m.text, 'html.parser')\n",
    "\n",
    "        links=sp_ser.findAll(lambda x: x.name == 'a' and re.search(r'\\.txt\\b', x['href']))\n",
    "\n",
    "        try:\n",
    "            os.mkdir(auth_load.loc['sera', 'strFileDir'])\n",
    "        except:\n",
    "            pass\n",
    "    \n",
    "        for link in links:\n",
    "            work_with_item(link['href'], link.text, sess)\n",
    "\n",
    "        print('All done.')\n",
    "        \n",
    "#read_sera()"
   ]
  },
  {
   "cell_type": "markdown",
   "metadata": {},
   "source": [
    "### Fadeyev"
   ]
  },
  {
   "cell_type": "code",
   "execution_count": 146,
   "metadata": {},
   "outputs": [
    {
     "name": "stdout",
     "output_type": "stream",
     "text": [
      "razgrom.txt Разгром\n",
      "mol_gwardiya.txt Молодая гвардия\n",
      "amgun.txt Рождение амгуньского полка\n",
      "bednbogt.txt О бедности и богатстве\n",
      "metal.txt Черная металлургия\n",
      "odin.txt Один в чаще\n",
      "razliv.txt Разлив\n",
      "udege.txt Последний из удэге\n",
      "zemletr.txt Землетрясение\n",
      "ofadeeve.txt В.Озеров. Певец революционной эпохи\n",
      "All done.\n"
     ]
    }
   ],
   "source": [
    "strFADURL=auth_load.loc['fad', 'strUrl']\n",
    "\n",
    "with requests.session() as sess:\n",
    "    sess.headers.update(req_headers)\n",
    "    fad_m=sess.get(strFADURL)\n",
    "    fad_m.encoding=fad_m.apparent_encoding\n",
    "    sp_fad=BeautifulSoup(fad_m.text, 'html.parser')\n",
    "\n",
    "    #links=sp_fad.findAll(lambda x: x.name == 'a' and re.search(r'\\.txt\\b', x.get('href')))\n",
    "    links=[l for l in sp_fad.findAll('a', href=True) if re.search(r'\\.txt\\b', l['href'])]\n",
    "\n",
    "    try:\n",
    "        os.mkdir(auth_load.loc['fad', 'strFileDir'])\n",
    "    except:\n",
    "        pass\n",
    "    \n",
    "    for link in links:\n",
    "        print(link['href'], link.text)\n",
    "\n",
    "    print('All done.')"
   ]
  },
  {
   "cell_type": "code",
   "execution_count": 159,
   "metadata": {},
   "outputs": [
    {
     "name": "stdout",
     "output_type": "stream",
     "text": [
      "1\n"
     ]
    }
   ],
   "source": [
    "s=sess.get(strFADURL+links[0]['href'])\n",
    "\n",
    "s.encoding=s.apparent_encoding\n",
    "sp=BeautifulSoup(s.text, 'html.parser')\n",
    "\n",
    "text_html=re.split('<ul><a name=\\d+></a><h2>[IVXА-Яа-я., ]+</h2></ul>', s.text)\n",
    "text=[t.strip() for t in text_html if not (re.search(r'(\\n?-{4,} ?\\n)', t) or re.search(r'<form action=', t))]\n",
    "\n",
    "for i in text:\n",
    "    print(i[:250])"
   ]
  },
  {
   "cell_type": "code",
   "execution_count": 218,
   "metadata": {},
   "outputs": [],
   "source": [
    "def work_with_item(strURL, name, sess):\n",
    "\n",
    "    s=sess.get(strURL)\n",
    "\n",
    "    s.encoding=s.apparent_encoding\n",
    "    sp=BeautifulSoup(s.text, 'html.parser')\n",
    "\n",
    "    text_html=re.sub('\\n  ', '<BR>', s.text)\n",
    "    \n",
    "    text_html=re.split('<ul><a name=\\d+></a><h2>[0-9IVXА-Яа-я?!*., ]+</h2></ul>', text_html)\n",
    "    \n",
    "    text=[t.strip() for t in text_html if not (re.search(r'(\\n?-{4,} ?\\n)', t) or re.search(r'<form action=', t))]\n",
    "\n",
    "    text=list(map(text_clear, text))\n",
    "    \n",
    "    for n, t in enumerate(text):\n",
    "        strFileName=os.path.join(auth_load.loc['fad', 'strFileDir'], '{name}_{num}.txt'.format(name=name, num=n+1))\n",
    "        print('work with ', strFileName, end=' ')\n",
    "        \n",
    "        with open(strFileName, 'w') as flw:\n",
    "            flw.write(t)\n",
    "            print('Done', end='\\n')\n"
   ]
  },
  {
   "cell_type": "code",
   "execution_count": 228,
   "metadata": {},
   "outputs": [
    {
     "name": "stdout",
     "output_type": "stream",
     "text": [
      "work with  Fadeyev/В.Озеров. Певец революционной эпохи_1.txt Done\n",
      "work with  Fadeyev/В.Озеров. Певец революционной эпохи_2.txt Done\n",
      "work with  Fadeyev/В.Озеров. Певец революционной эпохи_3.txt Done\n",
      "work with  Fadeyev/В.Озеров. Певец революционной эпохи_4.txt Done\n"
     ]
    }
   ],
   "source": [
    "ind=9\n",
    "work_with_item(strFADURL+links[ind]['href'], links[ind].text, sess)"
   ]
  },
  {
   "cell_type": "code",
   "execution_count": null,
   "metadata": {},
   "outputs": [],
   "source": []
  }
 ],
 "metadata": {
  "kernelspec": {
   "display_name": "Python 3",
   "language": "python",
   "name": "python3"
  },
  "language_info": {
   "codemirror_mode": {
    "name": "ipython",
    "version": 3
   },
   "file_extension": ".py",
   "mimetype": "text/x-python",
   "name": "python",
   "nbconvert_exporter": "python",
   "pygments_lexer": "ipython3",
   "version": "3.6.8"
  }
 },
 "nbformat": 4,
 "nbformat_minor": 2
}
